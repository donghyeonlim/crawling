{
 "cells": [
  {
   "cell_type": "code",
   "execution_count": 1,
   "id": "34d3aa6e",
   "metadata": {},
   "outputs": [],
   "source": [
    "from selenium import webdriver\n",
    "import time\n",
    "from bs4 import BeautifulSoup\n",
    "import random\n",
    "import pandas as pd\n",
    "import xlsxwriter"
   ]
  },
  {
   "cell_type": "code",
   "execution_count": 1,
   "id": "0fe3bcbf",
   "metadata": {},
   "outputs": [
    {
     "name": "stdout",
     "output_type": "stream",
     "text": [
      "아이디를 입력하세요:   \n",
      "비밀번호를 입력하세요:   \n",
      "검색할 내용을 입력 하세요:   \n",
      "몇건을 검색 할까요:   1\n"
     ]
    }
   ],
   "source": [
    "id_ = input('아이디를 입력하세요:   ')\n",
    "password_ = input('비밀번호를 입력하세요:   ')\n",
    "search = input('검색할 내용을 입력 하세요:   ')\n",
    "search_count = int(input('몇건을 검색 할까요:   '))"
   ]
  },
  {
   "cell_type": "code",
   "execution_count": 26,
   "id": "739a5878",
   "metadata": {},
   "outputs": [],
   "source": [
    "\n",
    "chrome_path = 'C:\\chromedriver\\chromedriver.exe'\n",
    "driver = webdriver.Chrome(chrome_path)\n",
    "url = 'https://www.instagram.com/'\n",
    "driver.get(url)\n",
    "time.sleep(3)\n",
    "\n",
    "## 한꺼번에 입력하거나 자주 실행하면 막힘.....ㅎㅎ\n",
    "element = driver.find_element_by_xpath('//*[@id=\"loginForm\"]/div/div[1]/div/label/input')\n",
    "driver.find_element_by_xpath('//*[@id=\"loginForm\"]/div/div[1]/div/label/input').click()\n",
    "for i in id_:\n",
    "    element.send_keys(i)\n",
    "    time.sleep(random.uniform(0.1,0.3))\n",
    "\n",
    "element = driver.find_element_by_xpath('//*[@id=\"loginForm\"]/div/div[2]/div/label/input')\n",
    "driver.find_element_by_xpath('//*[@id=\"loginForm\"]/div/div[2]/div/label/input').click()\n",
    "for i in password_:\n",
    "    element.send_keys(i)\n",
    "    time.sleep(random.uniform(0.1,0.3))\n",
    "time.sleep(3)\n",
    "\n",
    "driver.find_element_by_xpath('//*[@id=\"loginForm\"]/div/div[3]').click()\n",
    "time.sleep(2)\n",
    "\n",
    "## 자동로그인 설정\n",
    "driver.find_element_by_xpath('//*[@id=\"react-root\"]/section/main/div/div/div/div/button').click()\n",
    "time.sleep(2)\n",
    "\n",
    "## 알림설정\n",
    "driver.find_element_by_xpath('/html/body/div[5]/div/div/div/div[3]/button[2]').click()\n",
    "time.sleep(2)\n",
    "\n",
    "driver.find_element_by_xpath('//*[@id=\"react-root\"]/section/nav/div[2]/div/div/div[2]/div[1]/div').click()\n",
    "element = driver.find_element_by_xpath('//*[@id=\"react-root\"]/section/nav/div[2]/div/div/div[2]/input')\n",
    "\n",
    "for i in search:\n",
    "    element.send_keys(i)\n",
    "    time.sleep(random.uniform(0.1,0.3))\n",
    "\n",
    "time.sleep(2)\n",
    "element.send_keys('\\n')\n",
    "time.sleep(3)\n",
    "element.send_keys('\\n')\n",
    "\n",
    "time.sleep(6)\n",
    "title_=[]\n",
    "hash_tag = []\n",
    "txt_ = []\n",
    "img=[]\n",
    "\n",
    "driver.find_element_by_class_name('_9AhH0').click()\n",
    "time.sleep(3)\n",
    "for i in range(search_count):\n",
    "    html = driver.page_source\n",
    "    soup = BeautifulSoup(html,'html.parser')\n",
    "\n",
    "    try:\n",
    "        title_text = soup.find('a',class_='O4GlU').get_text()\n",
    "        title_.append(title_text)\n",
    "    except:\n",
    "        title_text = ''\n",
    "        title_.append(title_text)\n",
    "\n",
    "    txt_text = soup.select_one('div.C4VMK>span').get_text()\n",
    "    txt_.append(txt_text)\n",
    "\n",
    "    review_soup= soup.select('a.xil3i')\n",
    "    a = ''\n",
    "    for i in review_soup:\n",
    "        a += i.get_text()+' '\n",
    "    hash_tag.append(a)\n",
    "\n",
    "    try:\n",
    "        driver.find_element_by_xpath('/html/body/div[6]/div[2]/div/div[2]').click()\n",
    "    except:\n",
    "        driver.find_element_by_xpath('/html/body/div[6]/div[2]/div/div').click()\n",
    "    time.sleep(2)\n",
    "    \n",
    "## 자세히보기 x\n",
    "driver.find_element_by_xpath('/html/body/div[6]/div[1]').click()\n",
    "time.sleep(2)\n",
    "\n",
    "## 사진 수집\n",
    "while True:\n",
    "    html = driver.page_source\n",
    "    soup = BeautifulSoup(html,'html.parser')\n",
    "    list_a = soup.find('article','KC1QD').find_all('img')\n",
    "    for i in list_a:\n",
    "        list_url = i.get('src')\n",
    "        img_url_.append(list_url)\n",
    "    img_url = set(img_url_)\n",
    "    driver.execute_script(\"window.scrollTo(0,document.body.scrollHeight);\")\n",
    "    time.sleep(3)\n",
    "    if len(img_url)>= search_count:\n",
    "        img_url = list(img_url)[:search_count]\n",
    "        break\n"
   ]
  },
  {
   "cell_type": "code",
   "execution_count": 22,
   "id": "384c3c61",
   "metadata": {},
   "outputs": [],
   "source": [
    "## 사진 url\n",
    "a= search_count\n",
    "img_url_ = []\n",
    "while True:\n",
    "    html = driver.page_source\n",
    "    soup = BeautifulSoup(html,'html.parser')\n",
    "    list_a = soup.find('article','KC1QD').find_all('img')\n",
    "    for i in list_a:\n",
    "        list_url = i.get('src')\n",
    "        img_url_.append(list_url)\n",
    "    img_url = set(img_url_)\n",
    "    driver.execute_script(\"window.scrollTo(0,document.body.scrollHeight);\")\n",
    "    time.sleep(3)\n",
    "    if len(img_url)>= a:\n",
    "        img_url = list(img_url)[:search_count]\n",
    "        break"
   ]
  },
  {
   "cell_type": "code",
   "execution_count": 25,
   "id": "8d701482",
   "metadata": {},
   "outputs": [
    {
     "data": {
      "text/plain": [
       "100"
      ]
     },
     "execution_count": 25,
     "metadata": {},
     "output_type": "execute_result"
    }
   ],
   "source": [
    "len(img_url)"
   ]
  },
  {
   "cell_type": "code",
   "execution_count": 77,
   "id": "99ed0ef2",
   "metadata": {},
   "outputs": [
    {
     "name": "stderr",
     "output_type": "stream",
     "text": [
      "C:\\Users\\LIMDON~1\\AppData\\Local\\Temp/ipykernel_4436/1324819915.py:6: DeprecationWarning: find_element_by_* commands are deprecated. Please use find_element() instead\n",
      "  driver.find_element_by_class_name('_9AhH0').click()\n",
      "C:\\Users\\LIMDON~1\\AppData\\Local\\Temp/ipykernel_4436/1324819915.py:29: DeprecationWarning: find_element_by_* commands are deprecated. Please use find_element() instead\n",
      "  driver.find_element_by_xpath('/html/body/div[6]/div[2]/div/div[2]').click()\n",
      "C:\\Users\\LIMDON~1\\AppData\\Local\\Temp/ipykernel_4436/1324819915.py:31: DeprecationWarning: find_element_by_* commands are deprecated. Please use find_element() instead\n",
      "  driver.find_element_by_xpath('/html/body/div[6]/div[2]/div/div').click()\n"
     ]
    }
   ],
   "source": [
    "## 길이 맞추기\n",
    "title_=[]\n",
    "hash_tag = []\n",
    "txt_ = []\n",
    "img=[]\n",
    "\n",
    "driver.find_element_by_class_name('_9AhH0').click()\n",
    "time.sleep(3)\n",
    "for i in range(10):\n",
    "    html = driver.page_source\n",
    "    soup = BeautifulSoup(html,'html.parser')\n",
    "\n",
    "    try:\n",
    "        title_text = soup.find('a',class_='O4GlU').get_text()\n",
    "        title_.append(title_text)\n",
    "    except:\n",
    "        title_text = ''\n",
    "        title_.append(title_text)\n",
    "\n",
    "    txt_text = soup.select_one('div.C4VMK>span').get_text()\n",
    "    txt_.append(txt_text)\n",
    "\n",
    "    review_soup= soup.select('a.xil3i')\n",
    "    a = ''\n",
    "    for i in review_soup:\n",
    "        a += i.get_text()+' '\n",
    "    hash_tag.append(a)\n",
    "\n",
    "    try:\n",
    "        driver.find_element_by_xpath('/html/body/div[6]/div[2]/div/div[2]').click()\n",
    "    except:\n",
    "        driver.find_element_by_xpath('/html/body/div[6]/div[2]/div/div').click()\n",
    "    time.sleep(2)"
   ]
  },
  {
   "cell_type": "code",
   "execution_count": null,
   "id": "352724ef",
   "metadata": {},
   "outputs": [],
   "source": []
  },
  {
   "cell_type": "code",
   "execution_count": 14,
   "id": "8b701f06",
   "metadata": {},
   "outputs": [],
   "source": [
    "data_df = pd.DataFrame()"
   ]
  },
  {
   "cell_type": "code",
   "execution_count": 15,
   "id": "a793c88f",
   "metadata": {},
   "outputs": [],
   "source": [
    "data_df['제목'] = title_\n",
    "data_df['해쉬 태그'] = hash_tag\n",
    "data_df['내용'] = txt_"
   ]
  },
  {
   "cell_type": "code",
   "execution_count": 66,
   "id": "117e42f6",
   "metadata": {},
   "outputs": [
    {
     "name": "stdout",
     "output_type": "stream",
     "text": [
      "<class 'pandas.core.frame.DataFrame'>\n",
      "Int64Index: 100 entries, 0 to 99\n",
      "Data columns (total 3 columns):\n",
      " #   Column  Non-Null Count  Dtype \n",
      "---  ------  --------------  ----- \n",
      " 0   제목      100 non-null    object\n",
      " 1   해쉬 태그   100 non-null    object\n",
      " 2   내용      100 non-null    object\n",
      "dtypes: object(3)\n",
      "memory usage: 7.2+ KB\n"
     ]
    }
   ],
   "source": [
    "data_df.info()"
   ]
  },
  {
   "cell_type": "markdown",
   "id": "529285b7",
   "metadata": {},
   "source": [
    "이미지 다운"
   ]
  },
  {
   "cell_type": "code",
   "execution_count": 46,
   "id": "4ab5df22",
   "metadata": {},
   "outputs": [],
   "source": [
    "import urllib.request\n",
    "import urllib\n",
    "import os\n",
    "import math"
   ]
  },
  {
   "cell_type": "code",
   "execution_count": 54,
   "id": "9a544884",
   "metadata": {},
   "outputs": [],
   "source": [
    "img_dir = \"C:/Users/limdonghyeon/Desktop/study/crawling/images\"\n",
    "os.makedirs(img_dir)\n",
    "os.chdir(img_dir)"
   ]
  },
  {
   "cell_type": "code",
   "execution_count": 55,
   "id": "85e95e89",
   "metadata": {},
   "outputs": [],
   "source": [
    "file_no = 1\n",
    "for i in img_url:\n",
    "    urllib.request.urlretrieve(i,str(file_no)+'.jpg')\n",
    "    file_no +=1"
   ]
  },
  {
   "cell_type": "code",
   "execution_count": 62,
   "id": "c3245481",
   "metadata": {},
   "outputs": [],
   "source": [
    "data_df.to_excel('C:/Users/limdonghyeon/Desktop/study/crawling/instar.xlsx')"
   ]
  },
  {
   "cell_type": "code",
   "execution_count": 63,
   "id": "2d94a424",
   "metadata": {},
   "outputs": [],
   "source": []
  },
  {
   "cell_type": "code",
   "execution_count": null,
   "id": "9921deaa",
   "metadata": {},
   "outputs": [],
   "source": []
  },
  {
   "cell_type": "code",
   "execution_count": null,
   "id": "747e81bb",
   "metadata": {},
   "outputs": [],
   "source": []
  }
 ],
 "metadata": {
  "kernelspec": {
   "display_name": "Python 3 (ipykernel)",
   "language": "python",
   "name": "python3"
  },
  "language_info": {
   "codemirror_mode": {
    "name": "ipython",
    "version": 3
   },
   "file_extension": ".py",
   "mimetype": "text/x-python",
   "name": "python",
   "nbconvert_exporter": "python",
   "pygments_lexer": "ipython3",
   "version": "3.9.7"
  }
 },
 "nbformat": 4,
 "nbformat_minor": 5
}
