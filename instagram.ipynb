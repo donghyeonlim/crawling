{
 "cells": [
  {
   "cell_type": "code",
   "execution_count": 13,
   "id": "34d3aa6e",
   "metadata": {},
   "outputs": [],
   "source": [
    "from selenium import webdriver\n",
    "import time\n",
    "from bs4 import BeautifulSoup\n",
    "import random\n",
    "import pandas as pd"
   ]
  },
  {
   "cell_type": "code",
   "execution_count": 33,
   "id": "0fe3bcbf",
   "metadata": {},
   "outputs": [
    {
     "name": "stdout",
     "output_type": "stream",
     "text": [
      "아이디를 입력하세요\n",
      "비밀번호를 입력하세요\n",
      "검색할 내용을 입력 하세요\n",
      "몇건을 검색 할까요1\n"
     ]
    }
   ],
   "source": [
    "id_ = input('아이디를 입력하세요')\n",
    "password_ = input('비밀번호를 입력하세요')\n",
    "search = input('검색할 내용을 입력 하세요')\n",
    "search_count = int(input('몇건을 검색 할까요'))"
   ]
  },
  {
   "cell_type": "code",
   "execution_count": 34,
   "id": "739a5878",
   "metadata": {},
   "outputs": [],
   "source": [
    "chrome_path = 'C:\\chromedriver\\chromedriver.exe'\n",
    "driver = webdriver.Chrome(chrome_path)\n",
    "url = 'https://www.instagram.com/'\n",
    "driver.get(url)\n",
    "time.sleep(3)\n",
    "\n",
    "## 한꺼번에 입력하거나 자주 실행하면 막힘.....ㅎㅎ\n",
    "element = driver.find_element_by_xpath('//*[@id=\"loginForm\"]/div/div[1]/div/label/input')\n",
    "driver.find_element_by_xpath('//*[@id=\"loginForm\"]/div/div[1]/div/label/input').click()\n",
    "for i in id_:\n",
    "    element.send_keys(i)\n",
    "    time.sleep(random.uniform(0.1,0.3))\n",
    "\n",
    "element = driver.find_element_by_xpath('//*[@id=\"loginForm\"]/div/div[2]/div/label/input')\n",
    "driver.find_element_by_xpath('//*[@id=\"loginForm\"]/div/div[2]/div/label/input').click()\n",
    "for i in password_:\n",
    "    element.send_keys(i)\n",
    "    time.sleep(random.uniform(0.1,0.3))\n",
    "time.sleep(3)\n",
    "\n",
    "driver.find_element_by_xpath('//*[@id=\"loginForm\"]/div/div[3]').click()\n",
    "time.sleep(2)\n",
    "\n",
    "## 자동로그인 설정\n",
    "driver.find_element_by_xpath('//*[@id=\"react-root\"]/section/main/div/div/div/div/button').click()\n",
    "time.sleep(2)\n",
    "\n",
    "## 알림설정\n",
    "driver.find_element_by_xpath('/html/body/div[5]/div/div/div/div[3]/button[2]').click()\n",
    "time.sleep(2)\n",
    "\n",
    "driver.find_element_by_xpath('//*[@id=\"react-root\"]/section/nav/div[2]/div/div/div[2]/div[1]/div').click()\n",
    "element = driver.find_element_by_xpath('//*[@id=\"react-root\"]/section/nav/div[2]/div/div/div[2]/input')\n",
    "\n",
    "for i in search:\n",
    "    element.send_keys(i)\n",
    "    time.sleep(random.uniform(0.1,0.3))\n",
    "\n",
    "time.sleep(2)\n",
    "element.send_keys('\\n')\n",
    "time.sleep(3)\n",
    "element.send_keys('\\n')\n",
    "\n",
    "time.sleep(5)\n",
    "hash_tag = []\n",
    "txt_ = []\n",
    "img=[]\n",
    "\n",
    "driver.find_element_by_xpath('//*[@id=\"react-root\"]/section/main/article/div[1]/div/div/div[1]/div[1]/a/div[1]/div[2]').click()\n",
    "\n",
    "html = driver.page_source\n",
    "soup = BeautifulSoup(html,'html.parser')\n",
    "\n",
    "review_ = soup.select('div.NvNrm > div.C4VMK > span > a.xil3i').get_text()\n",
    "print(review_)\n",
    "\n"
   ]
  },
  {
   "cell_type": "code",
   "execution_count": null,
   "id": "3f75a1a5",
   "metadata": {},
   "outputs": [],
   "source": []
  }
 ],
 "metadata": {
  "kernelspec": {
   "display_name": "Python 3 (ipykernel)",
   "language": "python",
   "name": "python3"
  },
  "language_info": {
   "codemirror_mode": {
    "name": "ipython",
    "version": 3
   },
   "file_extension": ".py",
   "mimetype": "text/x-python",
   "name": "python",
   "nbconvert_exporter": "python",
   "pygments_lexer": "ipython3",
   "version": "3.9.7"
  }
 },
 "nbformat": 4,
 "nbformat_minor": 5
}
