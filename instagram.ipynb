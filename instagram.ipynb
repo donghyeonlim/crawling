{
 "cells": [
  {
   "cell_type": "code",
   "execution_count": 12,
   "id": "34d3aa6e",
   "metadata": {},
   "outputs": [],
   "source": [
    "from selenium import webdriver\n",
    "import time\n",
    "from bs4 import BeautifulSoup"
   ]
  },
  {
   "cell_type": "code",
   "execution_count": 13,
   "id": "0fe3bcbf",
   "metadata": {},
   "outputs": [
    {
     "name": "stdout",
     "output_type": "stream",
     "text": [
      "아이디를 입력하세요\n",
      "비밀번호를 입력하세요\n",
      "검색할 내용을 입력 하세요\n"
     ]
    }
   ],
   "source": [
    "id_ = input('아이디를 입력하세요')\n",
    "password_ = input('비밀번호를 입력하세요')\n",
    "search = input('검색할 내용을 입력 하세요')"
   ]
  },
  {
   "cell_type": "code",
   "execution_count": 14,
   "id": "739a5878",
   "metadata": {},
   "outputs": [],
   "source": [
    "chrome_path = 'C:\\chromedriver\\chromedriver.exe'\n",
    "driver = webdriver.Chrome(chrome_path)\n",
    "url = 'https://www.instagram.com/'\n",
    "driver.get(url)\n",
    "time.sleep(3)\n",
    "\n",
    "element = driver.find_element_by_xpath('//*[@id=\"loginForm\"]/div/div[1]/div/label/input')\n",
    "driver.find_element_by_xpath('//*[@id=\"loginForm\"]/div/div[1]/div/label/input').click()\n",
    "element.send_keys(id_)\n",
    "time.sleep(1)\n",
    "\n",
    "element = driver.find_element_by_xpath('//*[@id=\"loginForm\"]/div/div[2]/div/label/input')\n",
    "driver.find_element_by_xpath('//*[@id=\"loginForm\"]/div/div[2]/div/label/input').click()\n",
    "element.send_keys(password_)\n",
    "time.sleep(2)\n",
    "\n",
    "driver.find_element_by_xpath('//*[@id=\"loginForm\"]/div/div[3]').click()\n",
    "time.sleep(2)\n",
    "\n",
    "## 자동로그인 설정\n",
    "driver.find_element_by_xpath('//*[@id=\"react-root\"]/section/main/div/div/div/div/button').click()\n",
    "time.sleep(1)\n",
    "\n",
    "## 알림설정\n",
    "driver.find_element_by_xpath('/html/body/div[5]/div/div/div/div[3]/button[2]').click()\n",
    "time.sleep(1)\n",
    "\n",
    "driver.find_element_by_xpath('//*[@id=\"react-root\"]/section/nav/div[2]/div/div/div[2]/div[1]/div').click()\n",
    "element = driver.find_element_by_xpath('//*[@id=\"react-root\"]/section/nav/div[2]/div/div/div[2]/input')\n",
    "element.send_keys(search)\n",
    "time.sleep(0.2)\n",
    "element.send_keys('\\n')\n",
    "time.sleep(0.1)\n",
    "element.send_keys('\\n')\n",
    "\n"
   ]
  },
  {
   "cell_type": "code",
   "execution_count": null,
   "id": "31fa4fed",
   "metadata": {},
   "outputs": [],
   "source": []
  }
 ],
 "metadata": {
  "kernelspec": {
   "display_name": "Python 3 (ipykernel)",
   "language": "python",
   "name": "python3"
  },
  "language_info": {
   "codemirror_mode": {
    "name": "ipython",
    "version": 3
   },
   "file_extension": ".py",
   "mimetype": "text/x-python",
   "name": "python",
   "nbconvert_exporter": "python",
   "pygments_lexer": "ipython3",
   "version": "3.9.7"
  }
 },
 "nbformat": 4,
 "nbformat_minor": 5
}
