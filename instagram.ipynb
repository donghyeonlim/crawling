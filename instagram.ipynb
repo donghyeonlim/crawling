{
 "cells": [
  {
   "cell_type": "code",
   "execution_count": 198,
   "id": "34d3aa6e",
   "metadata": {},
   "outputs": [],
   "source": [
    "from selenium import webdriver\n",
    "import time\n",
    "from bs4 import BeautifulSoup\n",
    "import random\n",
    "import pandas as pd"
   ]
  },
  {
   "cell_type": "code",
   "execution_count": 200,
   "id": "0fe3bcbf",
   "metadata": {},
   "outputs": [
    {
     "name": "stdout",
     "output_type": "stream",
     "text": [
      "아이디를 입력하세요:   \n",
      "비밀번호를 입력하세요:   \n",
      "검색할 내용을 입력 하세요:   \n",
      "몇건을 검색 할까요:   1\n"
     ]
    }
   ],
   "source": [
    "id_ = input('아이디를 입력하세요:   ')\n",
    "password_ = input('비밀번호를 입력하세요:   ')\n",
    "search = input('검색할 내용을 입력 하세요:   ')\n",
    "search_count = int(input('몇건을 검색 할까요:   '))"
   ]
  },
  {
   "cell_type": "code",
   "execution_count": 204,
   "id": "739a5878",
   "metadata": {},
   "outputs": [],
   "source": [
    "chrome_path = 'C:\\chromedriver\\chromedriver.exe'\n",
    "driver = webdriver.Chrome(chrome_path)\n",
    "url = 'https://www.instagram.com/'\n",
    "driver.get(url)\n",
    "time.sleep(3)\n",
    "\n",
    "## 한꺼번에 입력하거나 자주 실행하면 막힘.....ㅎㅎ\n",
    "element = driver.find_element_by_xpath('//*[@id=\"loginForm\"]/div/div[1]/div/label/input')\n",
    "driver.find_element_by_xpath('//*[@id=\"loginForm\"]/div/div[1]/div/label/input').click()\n",
    "for i in id_:\n",
    "    element.send_keys(i)\n",
    "    time.sleep(random.uniform(0.1,0.3))\n",
    "\n",
    "element = driver.find_element_by_xpath('//*[@id=\"loginForm\"]/div/div[2]/div/label/input')\n",
    "driver.find_element_by_xpath('//*[@id=\"loginForm\"]/div/div[2]/div/label/input').click()\n",
    "for i in password_:\n",
    "    element.send_keys(i)\n",
    "    time.sleep(random.uniform(0.1,0.3))\n",
    "time.sleep(3)\n",
    "\n",
    "driver.find_element_by_xpath('//*[@id=\"loginForm\"]/div/div[3]').click()\n",
    "time.sleep(2)\n",
    "\n",
    "## 자동로그인 설정\n",
    "driver.find_element_by_xpath('//*[@id=\"react-root\"]/section/main/div/div/div/div/button').click()\n",
    "time.sleep(2)\n",
    "\n",
    "## 알림설정\n",
    "driver.find_element_by_xpath('/html/body/div[5]/div/div/div/div[3]/button[2]').click()\n",
    "time.sleep(2)\n",
    "\n",
    "driver.find_element_by_xpath('//*[@id=\"react-root\"]/section/nav/div[2]/div/div/div[2]/div[1]/div').click()\n",
    "element = driver.find_element_by_xpath('//*[@id=\"react-root\"]/section/nav/div[2]/div/div/div[2]/input')\n",
    "\n",
    "for i in search:\n",
    "    element.send_keys(i)\n",
    "    time.sleep(random.uniform(0.1,0.3))\n",
    "\n",
    "time.sleep(2)\n",
    "element.send_keys('\\n')\n",
    "time.sleep(3)\n",
    "element.send_keys('\\n')\n",
    "\n",
    "time.sleep(6)\n",
    "title_=[]\n",
    "hash_tag = []\n",
    "txt_ = []\n",
    "img=[]\n",
    "\n",
    "driver.find_element_by_class_name('_9AhH0').click()\n",
    "time.sleep(3)\n",
    "\n",
    "html = driver.page_source\n",
    "soup = BeautifulSoup(html,'html.parser')\n",
    "\n",
    "try:\n",
    "    title_text = soup.find('a',class_='O4GlU').get_text()\n",
    "    title_.append(title_text)\n",
    "except:\n",
    "    pass\n",
    "\n",
    "txt_text = soup.select_one('div.C4VMK>span').get_text()\n",
    "txt_.append(txt_text)\n",
    "\n",
    "review_soup= soup.select('a.xil3i')\n",
    "a = ''\n",
    "for i in review_soup:\n",
    "    a += i.get_text()+' '\n",
    "hash_tag.append(a)\n"
   ]
  },
  {
   "cell_type": "code",
   "execution_count": null,
   "id": "56dccbd0",
   "metadata": {},
   "outputs": [],
   "source": [
    "print(hash_tag)\n",
    "print(title_)\n",
    "print(txt_)"
   ]
  },
  {
   "cell_type": "code",
   "execution_count": 152,
   "id": "3f75a1a5",
   "metadata": {},
   "outputs": [],
   "source": [
    "a = soup.find('a',class_='O4GlU').get_text()"
   ]
  },
  {
   "cell_type": "code",
   "execution_count": 155,
   "id": "4141f2f9",
   "metadata": {},
   "outputs": [],
   "source": [
    "review_soup= soup.select('a.xil3i')"
   ]
  },
  {
   "cell_type": "code",
   "execution_count": 156,
   "id": "fb91c969",
   "metadata": {},
   "outputs": [
    {
     "data": {
      "text/plain": [
       "[<a class=\"xil3i\" href=\"/explore/tags/nikon/\" tabindex=\"0\">#Nikon</a>,\n",
       " <a class=\"xil3i\" href=\"/explore/tags/nikonz6/\" tabindex=\"0\">#nikonz6</a>,\n",
       " <a class=\"xil3i\" href=\"/explore/tags/allaboutnikon/\" tabindex=\"0\">#ALLaboutNIKON</a>,\n",
       " <a class=\"xil3i\" href=\"/explore/tags/web04/\" tabindex=\"0\">#Web04</a>,\n",
       " <a class=\"xil3i\" href=\"/explore/tags/changwoncity/\" tabindex=\"0\">#changwonCITY</a>,\n",
       " <a class=\"xil3i\" href=\"/explore/tags/landscape/\" tabindex=\"0\">#Landscape</a>,\n",
       " <a class=\"xil3i\" href=\"/explore/tags/웅천읍성/\" tabindex=\"0\">#웅천읍성</a>,\n",
       " <a class=\"xil3i\" href=\"/explore/tags/웅성/\" tabindex=\"0\">#웅성</a>,\n",
       " <a class=\"xil3i\" href=\"/explore/tags/읍성/\" tabindex=\"0\">#읍성</a>,\n",
       " <a class=\"xil3i\" href=\"/explore/tags/해자/\" tabindex=\"0\">#해자</a>,\n",
       " <a class=\"xil3i\" href=\"/explore/tags/치와문루/\" tabindex=\"0\">#치와문루</a>,\n",
       " <a class=\"xil3i\" href=\"/explore/tags/창원시티/\" tabindex=\"0\">#창원시티</a>,\n",
       " <a class=\"xil3i\" href=\"/explore/tags/진해구/\" tabindex=\"0\">#진해구</a>,\n",
       " <a class=\"xil3i\" href=\"/explore/tags/창원여행/\" tabindex=\"0\">#창원여행</a>]"
      ]
     },
     "execution_count": 156,
     "metadata": {},
     "output_type": "execute_result"
    }
   ],
   "source": [
    "review_soup"
   ]
  },
  {
   "cell_type": "code",
   "execution_count": 32,
   "id": "bcd32f6d",
   "metadata": {},
   "outputs": [
    {
     "name": "stderr",
     "output_type": "stream",
     "text": [
      "C:\\Users\\LIMDON~1\\AppData\\Local\\Temp/ipykernel_41172/1583476414.py:1: DeprecationWarning: find_element_by_* commands are deprecated. Please use find_element() instead\n",
      "  driver.find_element_by_class_name('_9AhH0').click()\n"
     ]
    }
   ],
   "source": [
    "driver.find_element_by_class_name('_9AhH0').click()"
   ]
  },
  {
   "cell_type": "code",
   "execution_count": 183,
   "id": "0bcba665",
   "metadata": {},
   "outputs": [
    {
     "data": {
      "text/plain": [
       "'진해 웅천 읍성에서 만난 옹성옹성이란성문앞에 설치되는 시설물(성벽)인데 그 형상이 항아리 모양을 하고 있어 붙여진 이름. 성문을 부수고 침입하려는 적군을 측면과 후방에서 공격할 수 있다. 포위된 상태를 만들어 전방위로 공격할 수 있어 아군에게 유리한 요새 시설이라고 개인적으로 추측옹성을 설명할려면 성곽위에서 내려다보며 촬영해야 이해하기가 쉽다 하지만 구성을 위한 촬영이다보니 들어가는 입구에서 촬영함#Nikon #nikonz6 #ALLaboutNIKON #Web04 #changwonCITY #Landscape #웅천읍성 #웅성 #읍성 #해자 #치와문루 #창원시티 #진해구 #창원여행'"
      ]
     },
     "execution_count": 183,
     "metadata": {},
     "output_type": "execute_result"
    }
   ],
   "source": [
    "html = driver.page_source\n",
    "soup = BeautifulSoup(html,'html.parser')\n",
    "\n",
    "review_soup= soup.select_one('div.C4VMK>span').get_text()\n",
    "review_soup"
   ]
  },
  {
   "cell_type": "code",
   "execution_count": 192,
   "id": "31aee0ab",
   "metadata": {
    "scrolled": false
   },
   "outputs": [],
   "source": [
    "html = driver.page_source\n",
    "soup = BeautifulSoup(html,'html.parser')\n",
    "\n",
    "title_text = soup.find('a',class_='O4GlU').get_text()\n",
    "title_.append(title_text)"
   ]
  },
  {
   "cell_type": "code",
   "execution_count": 193,
   "id": "db03d478",
   "metadata": {},
   "outputs": [
    {
     "data": {
      "text/plain": [
       "['부산핫플레이스']"
      ]
     },
     "execution_count": 193,
     "metadata": {},
     "output_type": "execute_result"
    }
   ],
   "source": [
    "title_"
   ]
  },
  {
   "cell_type": "code",
   "execution_count": null,
   "id": "384c3c61",
   "metadata": {},
   "outputs": [],
   "source": [
    "\n"
   ]
  },
  {
   "cell_type": "code",
   "execution_count": null,
   "id": "bfebaa4b",
   "metadata": {},
   "outputs": [],
   "source": []
  }
 ],
 "metadata": {
  "kernelspec": {
   "display_name": "Python 3 (ipykernel)",
   "language": "python",
   "name": "python3"
  },
  "language_info": {
   "codemirror_mode": {
    "name": "ipython",
    "version": 3
   },
   "file_extension": ".py",
   "mimetype": "text/x-python",
   "name": "python",
   "nbconvert_exporter": "python",
   "pygments_lexer": "ipython3",
   "version": "3.9.7"
  }
 },
 "nbformat": 4,
 "nbformat_minor": 5
}
