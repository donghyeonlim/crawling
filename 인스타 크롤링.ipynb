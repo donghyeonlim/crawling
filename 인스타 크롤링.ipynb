{
 "cells": [
  {
   "cell_type": "code",
   "execution_count": 1,
   "id": "00b78c90",
   "metadata": {},
   "outputs": [],
   "source": [
    "from selenium import webdriver\n",
    "import time\n",
    "from bs4 import BeautifulSoup\n",
    "import random\n",
    "import pandas as pd\n",
    "import xlsxwriter\n",
    "import openpyxl as op\n",
    "from PIL import Image\n",
    "import os\n",
    "import glob\n",
    "import urllib.request\n",
    "import urllib"
   ]
  },
  {
   "cell_type": "code",
   "execution_count": null,
   "id": "01c68fa8",
   "metadata": {},
   "outputs": [],
   "source": [
    "id_ = input('아이디를 입력하세요:   ')\n",
    "password_ = input('비밀번호를 입력하세요:   ')\n",
    "search = input('검색할 내용을 입력 하세요:   ')\n",
    "search_count = int(input('몇건을 검색 할까요:   '))"
   ]
  },
  {
   "cell_type": "code",
   "execution_count": null,
   "id": "e99ab4d2",
   "metadata": {},
   "outputs": [],
   "source": [
    "chrome_path = 'C:\\chromedriver\\chromedriver.exe'\n",
    "driver = webdriver.Chrome(chrome_path)\n",
    "url = 'https://www.instagram.com/'\n",
    "driver.get(url)\n",
    "time.sleep(3)\n",
    "\n",
    "## 한꺼번에 입력하거나 자주 실행하면 막힘.....ㅎㅎ\n",
    "element = driver.find_element_by_xpath('//*[@id=\"loginForm\"]/div/div[1]/div/label/input')\n",
    "driver.find_element_by_xpath('//*[@id=\"loginForm\"]/div/div[1]/div/label/input').click()\n",
    "for i in id_:\n",
    "    element.send_keys(i)\n",
    "    time.sleep(random.uniform(0.1,0.3))\n",
    "\n",
    "element = driver.find_element_by_xpath('//*[@id=\"loginForm\"]/div/div[2]/div/label/input')\n",
    "driver.find_element_by_xpath('//*[@id=\"loginForm\"]/div/div[2]/div/label/input').click()\n",
    "for i in password_:\n",
    "    element.send_keys(i)\n",
    "    time.sleep(random.uniform(0.1,0.3))\n",
    "time.sleep(3)\n",
    "\n",
    "driver.find_element_by_xpath('//*[@id=\"loginForm\"]/div/div[3]').click()\n",
    "time.sleep(2)\n",
    "\n",
    "## 자동로그인 설정\n",
    "driver.find_element_by_xpath('//*[@id=\"react-root\"]/section/main/div/div/div/div/button').click()\n",
    "time.sleep(2)\n",
    "\n",
    "## 알림설정\n",
    "driver.find_element_by_xpath('/html/body/div[5]/div/div/div/div[3]/button[2]').click()\n",
    "time.sleep(2)\n",
    "\n",
    "driver.find_element_by_xpath('//*[@id=\"react-root\"]/section/nav/div[2]/div/div/div[2]/div[1]/div').click()\n",
    "element = driver.find_element_by_xpath('//*[@id=\"react-root\"]/section/nav/div[2]/div/div/div[2]/input')\n",
    "\n",
    "for i in search:\n",
    "    element.send_keys(i)\n",
    "    time.sleep(random.uniform(0.1,0.3))\n",
    "\n",
    "time.sleep(2)\n",
    "element.send_keys('\\n')\n",
    "time.sleep(3)\n",
    "element.send_keys('\\n')\n",
    "\n",
    "time.sleep(6)\n",
    "driver.find_element_by_class_name('_9AhH0').click()\n",
    "time.sleep(3)\n",
    "\n",
    "title_=[]\n",
    "hash_tag = []\n",
    "txt_ = []\n",
    "img_url_ = []\n",
    "img_url=[]\n",
    "\n",
    "for i in range(search_count):\n",
    "    html = driver.page_source\n",
    "    soup = BeautifulSoup(html,'html.parser')\n",
    "\n",
    "    try:\n",
    "        title_text = soup.find('a',class_='O4GlU').get_text()\n",
    "        title_.append(title_text)\n",
    "    except:\n",
    "        title_text = ''\n",
    "        title_.append(title_text)\n",
    "    try:\n",
    "        txt_text = soup.select_one('div.MOdxS >span').get_text()\n",
    "        txt_.append(txt_text)\n",
    "    except:\n",
    "        txt_text=''\n",
    "        txt_.append(txt_text)\n",
    "    \n",
    "    review_soup= soup.select('a.xil3i')\n",
    "    \n",
    "    a = ''\n",
    "    for i in review_soup:\n",
    "        a += i.get_text()+' '\n",
    "    hash_tag.append(a)\n",
    "    \n",
    "    try:\n",
    "        driver.find_element_by_xpath('/html/body/div[6]/div[2]/div/div[2]').click()\n",
    "    except:\n",
    "        driver.find_element_by_xpath('/html/body/div[6]/div[2]/div/div').click()\n",
    "    time.sleep(2)\n",
    "    \n",
    "## 자세히보기 x\n",
    "driver.find_element_by_xpath('/html/body/div[6]/div[1]').click()\n",
    "time.sleep(2)\n",
    "\n",
    "## 이미지 다운\n",
    "while True:\n",
    "    html = driver.page_source\n",
    "    soup = BeautifulSoup(html,'html.parser')\n",
    "    list_a = soup.find('article','KC1QD').find_all('img')\n",
    "    for i in list_a:\n",
    "        list_url = i.get('src')\n",
    "        img_url_.append(list_url)\n",
    "    img_url = set(img_url_) ## 순서 안맞는 오류 이유 set함수 쓰면 자동 중복 제거와 함께 자동 정렬됨\n",
    "    driver.execute_script(\"window.scrollTo(0, 50)\") \n",
    "    time.sleep(3)\n",
    "    if len(img_url)>= search_count: ## set 으로 중복 제거한 개수가 search_count보다 크면 멈춤\n",
    "        img_url_ = list(img_url_)[:search_count] ## 순서대로 뽑은 img_url_을 search_count개수만큼 자름\n",
    "        break"
   ]
  },
  {
   "cell_type": "code",
   "execution_count": null,
   "id": "0f94247e",
   "metadata": {},
   "outputs": [],
   "source": [
    "## 사진 저장\n",
    "img_dir = \"E:/study/crawling/images\"\n",
    "os.makedirs(img_dir)\n",
    "os.chdir(img_dir)\n",
    "file_no = 1\n",
    "for i in img_url_:\n",
    "    urllib.request.urlretrieve(i,str(file_no)+'.jpg')\n",
    "    file_no +=1"
   ]
  },
  {
   "cell_type": "code",
   "execution_count": null,
   "id": "110a98f0",
   "metadata": {},
   "outputs": [],
   "source": [
    "## 경로 다시 원위치\n",
    "os.chdir(\"E:/study/crawling\")"
   ]
  },
  {
   "cell_type": "code",
   "execution_count": null,
   "id": "2f565b4a",
   "metadata": {},
   "outputs": [],
   "source": [
    "data_df = pd.DataFrame()\n",
    "data_df['제목'] = title_\n",
    "data_df['해쉬 태그'] = hash_tag\n",
    "data_df['내용'] = txt_"
   ]
  },
  {
   "cell_type": "code",
   "execution_count": null,
   "id": "7f0daffe",
   "metadata": {},
   "outputs": [],
   "source": [
    "data_df.to_excel('instar.xlsx')"
   ]
  },
  {
   "cell_type": "code",
   "execution_count": null,
   "id": "cd13b9a2",
   "metadata": {},
   "outputs": [],
   "source": [
    "## 파일 resize\n",
    "files = glob.glob('./images/*')\n",
    "for f in files[:]:\n",
    "    img = Image.open(f)\n",
    "    img_resize = img.resize((200,100))\n",
    "    img_resize.save(f)"
   ]
  },
  {
   "cell_type": "code",
   "execution_count": null,
   "id": "24d7a269",
   "metadata": {},
   "outputs": [],
   "source": [
    "img_path = 'E:/study/crawling/images'\n",
    "excel_path = 'E:/study/crawling/instar.xlsx'"
   ]
  },
  {
   "cell_type": "code",
   "execution_count": null,
   "id": "00451a4e",
   "metadata": {},
   "outputs": [],
   "source": [
    "## 엑셀 사진 저장\n",
    "wb = op.load_workbook(excel_path)\n",
    "ws = wb.active\n",
    "row_max = ws.max_row\n",
    "i=2\n",
    "a = 1\n",
    "for r in range(2, row_max+1):\n",
    "    filename = op.drawing.image.Image(img_path+'/'+str(a)+'.jpg')\n",
    "    ws.add_image(filename, \"A\"+str(i))\n",
    "    ws.row_dimensions[i].height = 77\n",
    "    i=i+1\n",
    "    a=a+1\n",
    "ws.column_dimensions['A'].width = 25\n",
    "wb.save(\"instar_img.xlsx\")"
   ]
  },
  {
   "cell_type": "code",
   "execution_count": null,
   "id": "d3ee3a0a",
   "metadata": {},
   "outputs": [],
   "source": []
  }
 ],
 "metadata": {
  "kernelspec": {
   "display_name": "Python 3 (ipykernel)",
   "language": "python",
   "name": "python3"
  },
  "language_info": {
   "codemirror_mode": {
    "name": "ipython",
    "version": 3
   },
   "file_extension": ".py",
   "mimetype": "text/x-python",
   "name": "python",
   "nbconvert_exporter": "python",
   "pygments_lexer": "ipython3",
   "version": "3.9.7"
  }
 },
 "nbformat": 4,
 "nbformat_minor": 5
}
