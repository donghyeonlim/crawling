{
 "cells": [
  {
   "cell_type": "code",
   "execution_count": 181,
   "id": "b1c3daca",
   "metadata": {
    "scrolled": true
   },
   "outputs": [],
   "source": [
    "from selenium import webdriver\n",
    "import time\n",
    "from bs4 import BeautifulSoup"
   ]
  },
  {
   "cell_type": "code",
   "execution_count": 182,
   "id": "591a47da",
   "metadata": {},
   "outputs": [
    {
     "name": "stdout",
     "output_type": "stream",
     "text": [
      "어떤 영화의 평점리뷰를 수집할까요?아수라\n",
      "몇페이지를 수집할까요?5\n"
     ]
    }
   ],
   "source": [
    "movie_text = input('어떤 영화의 평점리뷰를 수집할까요?')\n",
    "page = int(input('몇페이지를 수집할까요?'))"
   ]
  },
  {
   "cell_type": "code",
   "execution_count": 202,
   "id": "abcf239a",
   "metadata": {
    "scrolled": false
   },
   "outputs": [
    {
     "name": "stderr",
     "output_type": "stream",
     "text": [
      "C:\\Users\\limdong\\AppData\\Local\\Temp/ipykernel_9964/4076811280.py:2: DeprecationWarning: executable_path has been deprecated, please pass in a Service object\n",
      "  driver = webdriver.Chrome(chrome_path)\n",
      "C:\\Users\\limdong\\AppData\\Local\\Temp/ipykernel_9964/4076811280.py:8: DeprecationWarning: find_element_by_* commands are deprecated. Please use find_element() instead\n",
      "  element = driver.find_element_by_xpath('//*[@id=\"query\"]')\n",
      "C:\\Users\\limdong\\AppData\\Local\\Temp/ipykernel_9964/4076811280.py:9: DeprecationWarning: find_element_by_* commands are deprecated. Please use find_element() instead\n",
      "  driver.find_element_by_xpath('//*[@id=\"query\"]').click()\n",
      "C:\\Users\\limdong\\AppData\\Local\\Temp/ipykernel_9964/4076811280.py:15: DeprecationWarning: find_element_by_* commands are deprecated. Please use find_element() instead\n",
      "  driver.find_element_by_class_name('_text').click()\n",
      "C:\\Users\\limdong\\AppData\\Local\\Temp/ipykernel_9964/4076811280.py:18: DeprecationWarning: find_element_by_* commands are deprecated. Please use find_element() instead\n",
      "  driver.find_element_by_xpath('//*[@id=\"movieEndTabMenu\"]/li[5]/a/em').click()\n",
      "C:\\Users\\limdong\\AppData\\Local\\Temp/ipykernel_9964/4076811280.py:35: DeprecationWarning: find_element_by_* commands are deprecated. Please use find_element() instead\n",
      "  driver.find_element_by_link_text('다음').click()\n"
     ]
    }
   ],
   "source": [
    "chrome_path = 'C:\\chromedriver\\chromedriver.exe'\n",
    "driver = webdriver.Chrome(chrome_path)\n",
    "url = 'https://www.naver.com/'\n",
    "driver.get(url)\n",
    "time.sleep(1)\n",
    "\n",
    "## 검색창 입력\n",
    "element = driver.find_element_by_xpath('//*[@id=\"query\"]')\n",
    "driver.find_element_by_xpath('//*[@id=\"query\"]').click()\n",
    "element.send_keys(movie_text)\n",
    "element.send_keys('\\n')\n",
    "time.sleep(2)\n",
    "\n",
    "## 평점 리뷰 들어가기\n",
    "driver.find_element_by_class_name('_text').click()\n",
    "time.sleep(1)\n",
    "driver.switch_to.window(driver.window_handles[1])\n",
    "driver.find_element_by_xpath('//*[@id=\"movieEndTabMenu\"]/li[5]/a/em').click()\n",
    "time.sleep(3)\n",
    "\n",
    "review = []\n",
    "driver.switch_to.frame('pointAfterListIframe')\n",
    "\n",
    "## 리뷰 수집\n",
    "for i in range(2,page+1):\n",
    "    html = driver.page_source\n",
    "    soup = BeautifulSoup(html,'html.parser')\n",
    "\n",
    "    review_ = soup.select('div.score_result > ul > li > div.score_reple > p')\n",
    "    for i in range(0,len(review_)):\n",
    "        review.append(review_[i].get_text())\n",
    "\n",
    "    ## 다음페이지로 넘어가기\n",
    "    try:\n",
    "        driver.find_element_by_link_text('다음').click()\n",
    "        time.sleep(2)\n",
    "    except:\n",
    "        break    ### 페이지수 넘어가면 넘추기"
   ]
  },
  {
   "cell_type": "code",
   "execution_count": 211,
   "id": "93af341c",
   "metadata": {
    "scrolled": false
   },
   "outputs": [],
   "source": [
    "list = []\n",
    "for i in review:\n",
    "    i = i.replace('관람객','')\n",
    "    i = i.strip()\n",
    "    list.append(i)"
   ]
  },
  {
   "cell_type": "code",
   "execution_count": 212,
   "id": "e1dace4a",
   "metadata": {
    "scrolled": false
   },
   "outputs": [
    {
     "data": {
      "text/plain": [
       "['시간가는줄 알고 봤습니다.',\n",
       " '최고급 재료로 비빔밥이라니',\n",
       " '배우들이 왜 굳이 예능까지 나왔는지 알 것 같은 영화 무언가 부실하니 이를 메우려는 옅은 수작 부족한 영화',\n",
       " '소문난 잔치에 먹을건 많았는데 맛이 없었다.',\n",
       " '감히 내부자들과 비교하지말길..',\n",
       " '감상평쓰면 500원준다니까 쓰는데 말해주겠음 개들이 다같이 짖는다고 호랑이 울음소리를 낼 수는 없음문제는 호랑이들이 한꺼번에 울어대니 개짖는 느낌이었다는거 결론 오늘 조조영화 개망',\n",
       " '말그대로 아수라. 피만 가득',\n",
       " '2016년 최악의 영화. 믿고 보는 황정민, 정우성 영화였는데, 답답하다.',\n",
       " '제가 잘못했습니다 몰라 봤습니다 다큐인줄 몰랐습니다',\n",
       " '성지순례 왔습니다 전부터 실화라는 루머가 있었죠',\n",
       " '아수라장이네요..어지러워요',\n",
       " '개봉할때 극장에서 봤는데. 그땐 노잼이엇는데 와.. 알고보니 ㅎㄷㄷ함',\n",
       " '황정민 X 곽도원 연기가 개쩝니다.. 그리고 정우성은 욕하는연기가 살짝 안어울리네요..!',\n",
       " '등장인물이 다 악역이라 누가 쳐맞던 ㅈㄴ통쾌함ㅋㅋㅋㅋ',\n",
       " '초호화 캐스팅에 비해 망작느낌',\n",
       " '심지어 여기서 안남시장 오른팔 직함도 “은실장” 으로나옴 ㅋㅋㅋ 진짜 노린걸까',\n",
       " '정우성 욕이 어색해요 ㅠㅠㅠ 되게 착한 사람인데 나쁜사람인척 연기하는거 같은 ,, 눈에 힘 빡주시고 나 못된사람이야! 라고 말하는거 같았어요',\n",
       " '생각보다 실망.. 별 내용이 음슴 잔인만 하고.. 배우어벤져스에 기대햇는데..',\n",
       " '축구만 감독 놀음이 아니었음',\n",
       " '다시는 배우만보고 영화안볼듯.. 왜 여기저기나와서 홍보하는지 알만했던영화.',\n",
       " '걍  볼내용이 없음 ....   실망',\n",
       " '이것도 넣고 저것도 넣고 다 껴넣은 영화. 정우성의 역활이 아쉬움. 병든와이프와의 사랑을 얘기하고싶은 건지 주지훈과의 우정,형재애를 얘기하고싶은 건지..결국 이도저도 아닌게 됨.',\n",
       " '대체...뭘..보여주려고..이런 초호화캐스팅을 한건지..그냥 각각배우들 연기잘한다~~이거 하나보여주려는 목적이였는지..',\n",
       " '예고편에서 본게전부.. 오프닝은. 화려한데 그게끝',\n",
       " '유료시사회로 보고나왔는데 정신이 급피곤해짐비교하자면 곡성보다 더 피곤함 진짜 아수라장 중심에 있는 기분..영화자체는 나쁘지 않아요 개연성이 좀 떨어질뿐',\n",
       " '씨발로 시작해서 씨발로 끝남 정우성 욕 진짜 안 어울리고 영화가 난장판인것같음 이번영화에선 주연들이 연기 잘하는거 모르겠고 짝대기가 연기갑이였다...',\n",
       " '아....정우성 곽도원 황정민 믿고 봤는데 머리가 아픔..',\n",
       " '쩝니다 재밋게 봤습니다 역주행 가자',\n",
       " '이 영화는 20180721 그것이 알고 싶다를 통해 다시 재평가받아야할 영화다. 개봉 당시 허무맹랑한 이야기라고 까이고 까인 영화였는데 실상은 현실반영을 제대로 한 영화였다. 재평가 가즈아!!',\n",
       " '결말이 지저분해요너무',\n",
       " '아 내돈..하 다신안볼영화',\n",
       " '모두 배우가 주연인 영화',\n",
       " '정우성 연기 소름돋는구만 왜그러지;;자기 캐릭터 완벽히 소화한거같은데',\n",
       " '기대이하다.  소문난  잔치에  먹을  것이 없었다.',\n",
       " '배우는 최고들인데..뻔한 내용과 개연성이 아쉽네요 재미는 있지만 뭔가 아쉬운 정우성의 욕은 살짝 오그라드는 ㅠ',\n",
       " '이 영화가 등장인물 이름하고 지명만 바꾸면 실화된다는 그 영화인가요?',\n",
       " '큰기대하고갓는데,솔직히별로',\n",
       " '감독님이 목숨걸고 찍으신줄 몰랐습니다.',\n",
       " '황정민 곽도원 연기 우와...',\n",
       " '끝까지 주지훈이 갑자기 왜 그렇게 급작스럽게 변하게 됐는지 알수가 없다.']"
      ]
     },
     "execution_count": 212,
     "metadata": {},
     "output_type": "execute_result"
    }
   ],
   "source": [
    "list"
   ]
  },
  {
   "cell_type": "code",
   "execution_count": null,
   "id": "cbe388b6",
   "metadata": {
    "scrolled": false
   },
   "outputs": [],
   "source": [
    "review_"
   ]
  },
  {
   "cell_type": "code",
   "execution_count": null,
   "id": "250414cb",
   "metadata": {},
   "outputs": [],
   "source": []
  }
 ],
 "metadata": {
  "kernelspec": {
   "display_name": "Python 3 (ipykernel)",
   "language": "python",
   "name": "python3"
  },
  "language_info": {
   "codemirror_mode": {
    "name": "ipython",
    "version": 3
   },
   "file_extension": ".py",
   "mimetype": "text/x-python",
   "name": "python",
   "nbconvert_exporter": "python",
   "pygments_lexer": "ipython3",
   "version": "3.9.7"
  }
 },
 "nbformat": 4,
 "nbformat_minor": 5
}
